{
 "cells": [
  {
   "cell_type": "code",
   "execution_count": 2,
   "id": "0e0d2d9d",
   "metadata": {},
   "outputs": [],
   "source": [
    "import pandas as pd\n",
    "from sklearn.model_selection import train_test_split"
   ]
  },
  {
   "cell_type": "code",
   "execution_count": 18,
   "id": "301d3fa4",
   "metadata": {},
   "outputs": [],
   "source": [
    "metadata_file = pd.read_csv('../Remaining Clean Data/updated_metadata.csv')"
   ]
  },
  {
   "cell_type": "code",
   "execution_count": 19,
   "id": "b9e737d5",
   "metadata": {},
   "outputs": [
    {
     "data": {
      "text/plain": [
       "Index(['image_id', 'species_name', 'latitude', 'longitude', 'altitude',\n",
       "       'altitude_dem', 'accuracy', 'state_name', 'exif_byte_order',\n",
       "       'phone_make', 'phone_camera_model', 'encoding_process',\n",
       "       'rear_main_camera_megapixels', 'rear_main_camera_aperture_size',\n",
       "       'rear_camera_flash_available', 'original_image_size',\n",
       "       'original_image_resolution', 'image_date_time', 'outlier',\n",
       "       'elevation_level', 'leaf_status', 'time_of_day', 'month'],\n",
       "      dtype='object')"
      ]
     },
     "execution_count": 19,
     "metadata": {},
     "output_type": "execute_result"
    }
   ],
   "source": [
    "metadata_file.columns"
   ]
  },
  {
   "cell_type": "code",
   "execution_count": 20,
   "id": "6d78a169",
   "metadata": {},
   "outputs": [],
   "source": [
    "# for i in metadata_file[\"species_name\"].unique():\n",
    "#     file = metadata_file[metadata_file[\"species_name\"]==i]\n",
    "#     elev_min = file[\"altitude_dem\"].min()\n",
    "#     elev_max = file[\"altitude_dem\"].max()\n",
    "#     print(i)\n",
    "#     print(\"minimum elevation : \",elev_min,\"meter\")\n",
    "#     print(\"maximum elevation : \",elev_max,\"meter\")\n",
    "#     print(\"=================================\")"
   ]
  },
  {
   "cell_type": "code",
   "execution_count": 22,
   "id": "b7527a1f",
   "metadata": {},
   "outputs": [],
   "source": [
    "# temp = metadata_file[metadata_file['outlier']==True]"
   ]
  },
  {
   "cell_type": "code",
   "execution_count": 23,
   "id": "b8208b65",
   "metadata": {},
   "outputs": [],
   "source": [
    "# temp['species_name'].value_counts()"
   ]
  },
  {
   "cell_type": "code",
   "execution_count": 24,
   "id": "309231b1",
   "metadata": {},
   "outputs": [],
   "source": [
    "metadata_file = metadata_file[metadata_file['outlier']==False]"
   ]
  },
  {
   "cell_type": "code",
   "execution_count": null,
   "id": "a713beae",
   "metadata": {},
   "outputs": [
    {
     "name": "stderr",
     "output_type": "stream",
     "text": [
      "/tmp/ipykernel_18840/2259361475.py:2: SettingWithCopyWarning: \n",
      "A value is trying to be set on a copy of a slice from a DataFrame.\n",
      "Try using .loc[row_indexer,col_indexer] = value instead\n",
      "\n",
      "See the caveats in the documentation: https://pandas.pydata.org/pandas-docs/stable/user_guide/indexing.html#returning-a-view-versus-a-copy\n",
      "  metadata_file[\"stratify_col\"] = (\n"
     ]
    },
    {
     "name": "stdout",
     "output_type": "stream",
     "text": [
      "species_name\n",
      "Aesculus indica             2800\n",
      "Buchanania lanzan           2800\n",
      "Cedrus deodara              2800\n",
      "Eucalyptus globulus         2800\n",
      "Madhuca longifolia          2800\n",
      "Mangifera sylvatica         2800\n",
      "Phyllanthus emblica         2800\n",
      "Pinus roxburghii            2800\n",
      "Quercus leucotrichophora    2800\n",
      "Rhododendron arboreum       2800\n",
      "Senegalia catechu           2800\n",
      "Shorea robusta              2800\n",
      "Taxus baccata               2800\n",
      "Name: count, dtype: int64\n"
     ]
    },
    {
     "name": "stderr",
     "output_type": "stream",
     "text": [
      "/tmp/ipykernel_18840/2259361475.py:38: DeprecationWarning: DataFrameGroupBy.apply operated on the grouping columns. This behavior is deprecated, and in a future version of pandas the grouping columns will be excluded from the operation. Either pass `include_groups=False` to exclude the groupings or explicitly select the grouping columns after groupby to silence this warning.\n",
      "  stratified_selection = metadata_file.groupby(\"species_name\", group_keys=False).apply(safe_sample, n=2800)\n"
     ]
    }
   ],
   "source": [
    " \n",
    "metadata_file[\"stratify_col\"] = (\n",
    "    metadata_file[\"phone_camera_model\"] + \"_\" +\n",
    "    metadata_file[\"time_of_day\"] + \"_\" +\n",
    "    metadata_file[\"leaf_status\"] + \"_\" +\n",
    "    metadata_file[\"elevation_level\"]\n",
    ")\n",
    "\n",
    "# Function to sample from each species group\n",
    "def safe_sample(group, n=2800):\n",
    "    # Get counts of each stratum\n",
    "    stratify_counts = group[\"stratify_col\"].value_counts()\n",
    "    \n",
    "    stratified_sample = []\n",
    "\n",
    "    for stratify_val, count in stratify_counts.items():\n",
    "        stratify_group = group[group[\"stratify_col\"] == stratify_val]\n",
    "        # Calculate how many to sample from this stratum\n",
    "        stratified_sample_size = min(n // len(stratify_counts), len(stratify_group))\n",
    "        stratified_sample.append(stratify_group.sample(n=stratified_sample_size, random_state=42, replace=False))\n",
    "\n",
    "    # Concatenate all the stratified samples\n",
    "    stratified_sample_df = pd.concat(stratified_sample)\n",
    "\n",
    "    # If we have fewer than 3000 rows (due to small strata), top up from remaining data (no duplicates!)\n",
    "    remaining_count = n - len(stratified_sample_df)\n",
    "    if remaining_count > 0:\n",
    "        already_selected_ids = stratified_sample_df[\"image_id\"].tolist()\n",
    "        remaining_pool = group[~group[\"image_id\"].isin(already_selected_ids)]\n",
    "        stratified_sample_df = pd.concat([\n",
    "            stratified_sample_df,\n",
    "            remaining_pool.sample(n=remaining_count, random_state=42, replace=False)\n",
    "        ])\n",
    "\n",
    "    return stratified_sample_df\n",
    "\n",
    " \n",
    "stratified_selection = metadata_file.groupby(\"species_name\", group_keys=False).apply(safe_sample, n=2800)\n",
    "\n",
    " \n",
    "print(stratified_selection[\"species_name\"].value_counts())"
   ]
  },
  {
   "cell_type": "code",
   "execution_count": 37,
   "id": "08c7b56f",
   "metadata": {},
   "outputs": [
    {
     "data": {
      "text/plain": [
       "elevation_level\n",
       "level4    7604\n",
       "level5    7453\n",
       "level3    7232\n",
       "level2    7147\n",
       "level1    6964\n",
       "Name: count, dtype: int64"
      ]
     },
     "execution_count": 37,
     "metadata": {},
     "output_type": "execute_result"
    }
   ],
   "source": [
    "stratified_selection['elevation_level'].value_counts()"
   ]
  },
  {
   "cell_type": "code",
   "execution_count": 38,
   "id": "591372c1",
   "metadata": {},
   "outputs": [],
   "source": [
    "stratified_selection.drop(columns=['stratify_col'],inplace=True)"
   ]
  },
  {
   "cell_type": "code",
   "execution_count": 39,
   "id": "87b3ee5c",
   "metadata": {},
   "outputs": [],
   "source": [
    "stratified_selection.to_csv('../Remaining Clean Data/stratified_selection.csv',index=False)"
   ]
  },
  {
   "cell_type": "code",
   "execution_count": null,
   "id": "32cc5b9e",
   "metadata": {},
   "outputs": [],
   "source": []
  }
 ],
 "metadata": {
  "kernelspec": {
   "display_name": ".venv",
   "language": "python",
   "name": "python3"
  },
  "language_info": {
   "codemirror_mode": {
    "name": "ipython",
    "version": 3
   },
   "file_extension": ".py",
   "mimetype": "text/x-python",
   "name": "python",
   "nbconvert_exporter": "python",
   "pygments_lexer": "ipython3",
   "version": "3.12.3"
  }
 },
 "nbformat": 4,
 "nbformat_minor": 5
}
