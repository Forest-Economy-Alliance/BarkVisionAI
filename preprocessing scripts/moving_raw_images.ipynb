{
 "cells": [
  {
   "cell_type": "code",
   "execution_count": 9,
   "metadata": {},
   "outputs": [],
   "source": [
    "import pandas as pd\n",
    "import os\n",
    "import shutil"
   ]
  },
  {
   "cell_type": "code",
   "execution_count": 2,
   "metadata": {},
   "outputs": [],
   "source": [
    "metadata_file = pd.read_csv('./BarkVisionAI_metadata.csv')"
   ]
  },
  {
   "cell_type": "markdown",
   "metadata": {},
   "source": [
    "### Moving raw Aesculus indica images"
   ]
  },
  {
   "cell_type": "code",
   "execution_count": null,
   "metadata": {},
   "outputs": [],
   "source": [
    "metadata_file_Aesculus_indica = metadata_file[metadata_file['species_name']=='Aesculus indica']\n",
    "source_folder = \"./Raw_Data/aesculusi_indica\"\n",
    "destination_folder = \"./revision-data/data/Aesculus indica\"\n",
    "os.makedirs(destination_folder,exist_ok=True)\n",
    "for image_id in metadata_file_Aesculus_indica['image_id'] :\n",
    "    source_path = os.path.join(source_folder, f\"{image_id}\")\n",
    "    destination_path = os.path.join(destination_folder, f\"{image_id}\")\n",
    "    if os.path.exists(source_path):\n",
    "        shutil.move(source_path, destination_path)\n",
    "        print(f\"Moved: {source_path} -> {destination_path}\")\n",
    "    else:\n",
    "        print(f\"File not found: {source_path}\")\n",
    "\n",
    "print(\"Image transfer complete!\")\n",
    "print(\"moved images :\" ,len(os.listdir(destination_folder)) , \", actual images : \", metadata_file_Aesculus_indica['image_id'].shape[0])\n"
   ]
  },
  {
   "cell_type": "markdown",
   "metadata": {},
   "source": [
    "### Moving raw Shorea robusta images"
   ]
  },
  {
   "cell_type": "code",
   "execution_count": null,
   "metadata": {},
   "outputs": [],
   "source": [
    "metadata_file_Shorea_robusta = metadata_file[metadata_file['species_name']=='Shorea robusta']\n",
    "source_folder = \"./Raw_Data/sal\"\n",
    "destination_folder = \"./revision-data/data/Shorea robusta\"\n",
    "os.makedirs(destination_folder,exist_ok=True)\n",
    "for image_id in metadata_file_Shorea_robusta['image_id'] :\n",
    "    source_path = os.path.join(source_folder, f\"{image_id}\")\n",
    "    destination_path = os.path.join(destination_folder, f\"{image_id}\")\n",
    "    if os.path.exists(source_path):\n",
    "        shutil.move(source_path, destination_path)\n",
    "        print(f\"Moved: {source_path} -> {destination_path}\")\n",
    "    else:\n",
    "        print(f\"File not found: {source_path}\")\n",
    "\n",
    "print(\"Image transfer complete!\")\n",
    "print(\"moved images :\" ,len(os.listdir(destination_folder)) , \", actual images : \", metadata_file_Shorea_robusta['image_id'].shape[0])"
   ]
  },
  {
   "cell_type": "markdown",
   "metadata": {},
   "source": [
    "### Moving raw Madhuca longifolia images"
   ]
  },
  {
   "cell_type": "code",
   "execution_count": null,
   "metadata": {},
   "outputs": [],
   "source": [
    "metadata_file_Madhuca_longifolia = metadata_file[metadata_file['species_name']=='Madhuca longifolia']\n",
    "source_folder = \"./Raw_Data/mahua\"\n",
    "destination_folder = \"./revision-data/data/Madhuca longifolia\"\n",
    "os.makedirs(destination_folder,exist_ok=True)\n",
    "for image_id in metadata_file_Madhuca_longifolia['image_id'] :\n",
    "    source_path = os.path.join(source_folder, f\"{image_id}\")\n",
    "    destination_path = os.path.join(destination_folder, f\"{image_id}\")\n",
    "    if os.path.exists(source_path):\n",
    "        shutil.move(source_path, destination_path)\n",
    "        print(f\"Moved: {source_path} -> {destination_path}\")\n",
    "    else:\n",
    "        print(f\"File not found: {source_path}\")\n",
    "\n",
    "print(\"Image transfer complete!\")\n",
    "print(\"moved images :\" ,len(os.listdir(destination_folder)) , \", actual images : \", metadata_file_Madhuca_longifolia['image_id'].shape[0])\n",
    "\n"
   ]
  },
  {
   "cell_type": "markdown",
   "metadata": {},
   "source": [
    "### Moving raw Buchanania lanzan images"
   ]
  },
  {
   "cell_type": "code",
   "execution_count": null,
   "metadata": {},
   "outputs": [],
   "source": [
    "metadata_file_Buchanania_lanzan = metadata_file[metadata_file['species_name']=='Buchanania lanzan']\n",
    "source_folder = \"./Raw_Data/chironji\"\n",
    "destination_folder = \"./revision-data/data/Buchanania lanzan\"\n",
    "os.makedirs(destination_folder,exist_ok=True)\n",
    "for image_id in metadata_file_Buchanania_lanzan['image_id'] :\n",
    "    source_path = os.path.join(source_folder, f\"{image_id}\")\n",
    "    destination_path = os.path.join(destination_folder, f\"{image_id}\")\n",
    "    if os.path.exists(source_path):\n",
    "        shutil.move(source_path, destination_path)\n",
    "        print(f\"Moved: {source_path} -> {destination_path}\")\n",
    "    else:\n",
    "        print(f\"File not found: {source_path}\")\n",
    "\n",
    "print(\"Image transfer complete!\")\n",
    "print(\"moved images :\" ,len(os.listdir(destination_folder)) , \", actual images : \", metadata_file_Buchanania_lanzan['image_id'].shape[0])\n",
    "\n"
   ]
  },
  {
   "cell_type": "markdown",
   "metadata": {},
   "source": [
    "### Moving raw Senegalia catechu images"
   ]
  },
  {
   "cell_type": "code",
   "execution_count": null,
   "metadata": {},
   "outputs": [],
   "source": [
    "metadata_file_Senegalia_catechu = metadata_file[metadata_file['species_name']=='Senegalia catechu']\n",
    "source_folder = \"./Raw_Data/senegalia_catechu\"\n",
    "destination_folder = \"./revision-data/data/Senegalia catechu\"\n",
    "os.makedirs(destination_folder,exist_ok=True)\n",
    "for image_id in metadata_file_Senegalia_catechu['image_id'] :\n",
    "    source_path = os.path.join(source_folder, f\"{image_id}\")\n",
    "    destination_path = os.path.join(destination_folder, f\"{image_id}\")\n",
    "    if os.path.exists(source_path):\n",
    "        shutil.move(source_path, destination_path)\n",
    "        print(f\"Moved: {source_path} -> {destination_path}\")\n",
    "    else:\n",
    "        print(f\"File not found: {source_path}\")\n",
    "\n",
    "print(\"Image transfer complete!\")\n",
    "print(\"moved images :\" ,len(os.listdir(destination_folder)) , \", actual images : \", metadata_file_Senegalia_catechu['image_id'].shape[0])\n",
    "\n"
   ]
  },
  {
   "cell_type": "markdown",
   "metadata": {},
   "source": [
    "### Moving raw Rhododendron arboreum images"
   ]
  },
  {
   "cell_type": "code",
   "execution_count": null,
   "metadata": {},
   "outputs": [],
   "source": [
    "metadata_file_Rhododendron_arboreum = metadata_file[metadata_file['species_name']=='Rhododendron arboreum']\n",
    "source_folder = \"./Raw_Data/rhododendron\"\n",
    "destination_folder = \"./revision-data/data/Rhododendron arboreum\"\n",
    "os.makedirs(destination_folder,exist_ok=True)\n",
    "for image_id in metadata_file_Rhododendron_arboreum['image_id'] :\n",
    "    source_path = os.path.join(source_folder, f\"{image_id}\")\n",
    "    destination_path = os.path.join(destination_folder, f\"{image_id}\")\n",
    "    if os.path.exists(source_path):\n",
    "        shutil.move(source_path, destination_path)\n",
    "        print(f\"Moved: {source_path} -> {destination_path}\")\n",
    "    else:\n",
    "        print(f\"File not found: {source_path}\")\n",
    "\n",
    "print(\"Image transfer complete!\")\n",
    "print(\"moved images :\" ,len(os.listdir(destination_folder)) , \", actual images : \", metadata_file_Rhododendron_arboreum['image_id'].shape[0])\n",
    "\n"
   ]
  },
  {
   "cell_type": "markdown",
   "metadata": {},
   "source": [
    "### Moving raw Pinus roxburghii images"
   ]
  },
  {
   "cell_type": "code",
   "execution_count": null,
   "metadata": {},
   "outputs": [],
   "source": [
    "metadata_file_Pinus_roxburghii = metadata_file[metadata_file['species_name']=='Pinus roxburghii']\n",
    "source_folder = \"./Raw_Data/chir_pine\"\n",
    "destination_folder = \"./revision-data/data/Pinus roxburghii\"\n",
    "os.makedirs(destination_folder,exist_ok=True)\n",
    "for image_id in metadata_file_Pinus_roxburghii['image_id'] :\n",
    "    source_path = os.path.join(source_folder, f\"{image_id}\")\n",
    "    destination_path = os.path.join(destination_folder, f\"{image_id}\")\n",
    "    if os.path.exists(source_path):\n",
    "        shutil.move(source_path, destination_path)\n",
    "        print(f\"Moved: {source_path} -> {destination_path}\")\n",
    "    else:\n",
    "        print(f\"File not found: {source_path}\")\n",
    "\n",
    "print(\"Image transfer complete!\")\n",
    "print(\"moved images :\" ,len(os.listdir(destination_folder)) , \", actual images : \", metadata_file_Pinus_roxburghii['image_id'].shape[0])\n",
    "\n"
   ]
  },
  {
   "cell_type": "markdown",
   "metadata": {},
   "source": [
    "### Moving raw Mangifera sylvatica images"
   ]
  },
  {
   "cell_type": "code",
   "execution_count": null,
   "metadata": {},
   "outputs": [],
   "source": [
    "metadata_file_Mangifera_sylvatica = metadata_file[metadata_file['species_name']=='Mangifera sylvatica']\n",
    "source_folder = \"./Raw_Data/wild_mango\"\n",
    "destination_folder = \"./revision-data/data/Mangifera sylvatica\"\n",
    "os.makedirs(destination_folder,exist_ok=True)\n",
    "for image_id in metadata_file_Mangifera_sylvatica['image_id'] :\n",
    "    source_path = os.path.join(source_folder, f\"{image_id}\")\n",
    "    destination_path = os.path.join(destination_folder, f\"{image_id}\")\n",
    "    if os.path.exists(source_path):\n",
    "        shutil.move(source_path, destination_path)\n",
    "        print(f\"Moved: {source_path} -> {destination_path}\")\n",
    "    else:\n",
    "        print(f\"File not found: {source_path}\")\n",
    "\n",
    "print(\"Image transfer complete!\")\n",
    "print(\"moved images :\" ,len(os.listdir(destination_folder)) , \", actual images : \", metadata_file_Mangifera_sylvatica['image_id'].shape[0])\n",
    "\n"
   ]
  },
  {
   "cell_type": "markdown",
   "metadata": {},
   "source": [
    "### Moving raw Eucalyptus globulus images"
   ]
  },
  {
   "cell_type": "code",
   "execution_count": null,
   "metadata": {},
   "outputs": [],
   "source": [
    "metadata_file_Eucalyptus_globulus = metadata_file[metadata_file['species_name']=='Eucalyptus globulus']\n",
    "source_folder = \"./Raw_Data/eucalyptus\"\n",
    "destination_folder = \"./revision-data/data/Eucalyptus globulus\"\n",
    "os.makedirs(destination_folder,exist_ok=True)\n",
    "for image_id in metadata_file_Eucalyptus_globulus['image_id'] :\n",
    "    source_path = os.path.join(source_folder, f\"{image_id}\")\n",
    "    destination_path = os.path.join(destination_folder, f\"{image_id}\")\n",
    "    if os.path.exists(source_path):\n",
    "        shutil.move(source_path, destination_path)\n",
    "        print(f\"Moved: {source_path} -> {destination_path}\")\n",
    "    else:\n",
    "        print(f\"File not found: {source_path}\")\n",
    "\n",
    "print(\"Image transfer complete!\")\n",
    "print(\"moved images :\" ,len(os.listdir(destination_folder)) , \", actual images : \", metadata_file_Eucalyptus_globulus['image_id'].shape[0])\n",
    "\n"
   ]
  },
  {
   "cell_type": "markdown",
   "metadata": {},
   "source": [
    "### Moving raw Phyllanthus emblica images"
   ]
  },
  {
   "cell_type": "code",
   "execution_count": null,
   "metadata": {},
   "outputs": [],
   "source": [
    "metadata_file_Phyllanthus_emblica = metadata_file[metadata_file['species_name']=='Phyllanthus emblica']\n",
    "source_folder = \"./Raw_Data/indian_gooseberry\"\n",
    "destination_folder = \"./revision-data/data/Phyllanthus emblica\"\n",
    "os.makedirs(destination_folder,exist_ok=True)\n",
    "for image_id in metadata_file_Phyllanthus_emblica['image_id'] :\n",
    "    source_path = os.path.join(source_folder, f\"{image_id}\")\n",
    "    destination_path = os.path.join(destination_folder, f\"{image_id}\")\n",
    "    if os.path.exists(source_path):\n",
    "        shutil.move(source_path, destination_path)\n",
    "        print(f\"Moved: {source_path} -> {destination_path}\")\n",
    "    else:\n",
    "        print(f\"File not found: {source_path}\")\n",
    "\n",
    "print(\"Image transfer complete!\")\n",
    "print(\"moved images :\" ,len(os.listdir(destination_folder)) , \", actual images : \", metadata_file_Phyllanthus_emblica['image_id'].shape[0])\n",
    "\n"
   ]
  },
  {
   "cell_type": "markdown",
   "metadata": {},
   "source": [
    "### Moving raw Taxus baccata images"
   ]
  },
  {
   "cell_type": "code",
   "execution_count": null,
   "metadata": {},
   "outputs": [],
   "source": [
    "metadata_file_Taxus_baccata = metadata_file[metadata_file['species_name']=='Taxus baccata']\n",
    "source_folder = \"./Raw_Data/taxus_baccata\"\n",
    "destination_folder = \"./revision-data/data/Taxus baccata\"\n",
    "os.makedirs(destination_folder,exist_ok=True)\n",
    "for image_id in metadata_file_Taxus_baccata['image_id'] :\n",
    "    source_path = os.path.join(source_folder, f\"{image_id}\")\n",
    "    destination_path = os.path.join(destination_folder, f\"{image_id}\")\n",
    "    if os.path.exists(source_path):\n",
    "        shutil.move(source_path, destination_path)\n",
    "        print(f\"Moved: {source_path} -> {destination_path}\")\n",
    "    else:\n",
    "        print(f\"File not found: {source_path}\")\n",
    "\n",
    "print(\"Image transfer complete!\")\n",
    "print(\"moved images :\" ,len(os.listdir(destination_folder)) , \", actual images : \", metadata_file_Taxus_baccata['image_id'].shape[0])\n",
    "\n"
   ]
  },
  {
   "cell_type": "markdown",
   "metadata": {},
   "source": [
    "### Moving raw Cedrus deodara images"
   ]
  },
  {
   "cell_type": "code",
   "execution_count": null,
   "metadata": {},
   "outputs": [],
   "source": [
    "metadata_file_Cedrus_deodara = metadata_file[metadata_file['species_name']=='Cedrus deodara']\n",
    "source_folder = \"./Raw_Data/cedrus_deodara\"\n",
    "destination_folder = \"./revision-data/data/Cedrus deodara\"\n",
    "os.makedirs(destination_folder,exist_ok=True)\n",
    "for image_id in metadata_file_Cedrus_deodara['image_id'] :\n",
    "    source_path = os.path.join(source_folder, f\"{image_id}\")\n",
    "    destination_path = os.path.join(destination_folder, f\"{image_id}\")\n",
    "    if os.path.exists(source_path):\n",
    "        shutil.move(source_path, destination_path)\n",
    "        print(f\"Moved: {source_path} -> {destination_path}\")\n",
    "    else:\n",
    "        print(f\"File not found: {source_path}\")\n",
    "\n",
    "print(\"Image transfer complete!\")\n",
    "print(\"moved images :\" ,len(os.listdir(destination_folder)) , \", actual images : \", metadata_file_Cedrus_deodara['image_id'].shape[0])\n",
    "\n"
   ]
  },
  {
   "cell_type": "markdown",
   "metadata": {},
   "source": [
    "### Moving raw Quercus leucotrichophora images"
   ]
  },
  {
   "cell_type": "code",
   "execution_count": null,
   "metadata": {},
   "outputs": [],
   "source": [
    "metadata_file_Quercus_leucotrichophora = metadata_file[metadata_file['species_name']=='Quercus leucotrichophora']\n",
    "source_folder = \"./Raw_Data/quercus_leucotrichophora\"\n",
    "destination_folder = \"./revision-data/data/Quercus leucotrichophora\"\n",
    "os.makedirs(destination_folder,exist_ok=True)\n",
    "for image_id in metadata_file_Quercus_leucotrichophora['image_id'] :\n",
    "    source_path = os.path.join(source_folder, f\"{image_id}\")\n",
    "    destination_path = os.path.join(destination_folder, f\"{image_id}\")\n",
    "    if os.path.exists(source_path):\n",
    "        shutil.move(source_path, destination_path)\n",
    "        print(f\"Moved: {source_path} -> {destination_path}\")\n",
    "    else:\n",
    "        print(f\"File not found: {source_path}\")\n",
    "\n",
    "print(\"Image transfer complete!\")\n",
    "print(\"moved images :\" ,len(os.listdir(destination_folder)) , \", actual images : \", metadata_file_Quercus_leucotrichophora['image_id'].shape[0])\n",
    "\n"
   ]
  }
 ],
 "metadata": {
  "kernelspec": {
   "display_name": ".venv",
   "language": "python",
   "name": "python3"
  },
  "language_info": {
   "codemirror_mode": {
    "name": "ipython",
    "version": 3
   },
   "file_extension": ".py",
   "mimetype": "text/x-python",
   "name": "python",
   "nbconvert_exporter": "python",
   "pygments_lexer": "ipython3",
   "version": "3.12.3"
  }
 },
 "nbformat": 4,
 "nbformat_minor": 2
}
