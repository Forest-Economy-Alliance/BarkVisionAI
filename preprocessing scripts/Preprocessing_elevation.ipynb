{
 "cells": [
  {
   "cell_type": "code",
   "execution_count": 1,
   "id": "6f3cd6f3",
   "metadata": {},
   "outputs": [],
   "source": [
    "import pandas as pd\n",
    "import numpy as np"
   ]
  },
  {
   "cell_type": "code",
   "execution_count": 2,
   "id": "87315a36",
   "metadata": {},
   "outputs": [],
   "source": [
    "file = pd.read_csv('../csvs/species_height_nitesh.csv')"
   ]
  },
  {
   "cell_type": "code",
   "execution_count": null,
   "id": "8e4b5a66",
   "metadata": {},
   "outputs": [],
   "source": [
    "# df.rename(columns={'species_na':'species_name','Elevation_dem':'altitude','exif_byte_':'exif_byte_order',\n",
    "#      'phone_came':'phone_camera_model','encoding_p':'encoding_process', 'rear_main_':'rear_main_camera_megapixels',\n",
    "#        'rear_main1':'rear_main_camera_aperture_size','rear_camer':'rear_camera_flash_available',\n",
    "#         'original_i':'original_image_size', 'original_1':'original_image_resolution',  'image_date':'image_date_time'                                            \n",
    "#        }, inplace=True)"
   ]
  },
  {
   "cell_type": "code",
   "execution_count": 49,
   "id": "3f9a0a0d",
   "metadata": {},
   "outputs": [],
   "source": [
    "desired_columns = ['Elevation_dem', 'altitude','latitude','longitude','accuracy','species_na', 'state_name',]"
   ]
  },
  {
   "cell_type": "code",
   "execution_count": 50,
   "id": "bff9dcc1",
   "metadata": {},
   "outputs": [],
   "source": [
    "file = file[desired_columns]"
   ]
  },
  {
   "cell_type": "code",
   "execution_count": 51,
   "id": "51a3b4ed",
   "metadata": {},
   "outputs": [],
   "source": [
    "file.rename(columns={\n",
    "    'species_na':'species_name','Elevation_dem':'altitude_dem'\n",
    "},inplace=True)"
   ]
  },
  {
   "cell_type": "code",
   "execution_count": 53,
   "id": "ccb2027e",
   "metadata": {},
   "outputs": [],
   "source": [
    "file.to_csv(\"../csvs/metadata_v1.csv\",index=False)"
   ]
  },
  {
   "cell_type": "code",
   "execution_count": 39,
   "id": "ce6c26cc",
   "metadata": {},
   "outputs": [
    {
     "data": {
      "text/plain": [
       "Index(['Elevation_dem', 'altitude', 'time_of_da', 'phone_came', 'latitude',\n",
       "       'rear_camer', 'species_na', 'accuracy', 'rear_main1', 'image_date',\n",
       "       'original_i', 'encoding_p', 'original_1', 'month', 'state_name',\n",
       "       'exif_byte_', 'phone_make', 'processed_', 'image_id', 'rear_main_',\n",
       "       'system:index', 'longitude'],\n",
       "      dtype='object')"
      ]
     },
     "execution_count": 39,
     "metadata": {},
     "output_type": "execute_result"
    }
   ],
   "source": [
    "file.columns"
   ]
  },
  {
   "cell_type": "code",
   "execution_count": 40,
   "id": "661f3258",
   "metadata": {},
   "outputs": [],
   "source": [
    "file['diff'] = file['Elevation_dem'].astype(int)-file['altitude'].astype(int)"
   ]
  },
  {
   "cell_type": "code",
   "execution_count": 45,
   "id": "00c61550",
   "metadata": {},
   "outputs": [],
   "source": [
    "disered_cols = ['Elevation_dem','altitude','diff']\n",
    "temp = file[disered_cols]\n",
    "temp.to_csv('./temp.csv',index=False)"
   ]
  },
  {
   "cell_type": "code",
   "execution_count": 46,
   "id": "60ea596b",
   "metadata": {},
   "outputs": [
    {
     "data": {
      "text/plain": [
       "count    158586.000000\n",
       "mean         44.036271\n",
       "std          90.591631\n",
       "min       -5405.000000\n",
       "25%          22.000000\n",
       "50%          38.000000\n",
       "75%          54.000000\n",
       "max        2580.000000\n",
       "Name: diff, dtype: float64"
      ]
     },
     "execution_count": 46,
     "metadata": {},
     "output_type": "execute_result"
    }
   ],
   "source": [
    "temp['diff'].describe()"
   ]
  },
  {
   "cell_type": "code",
   "execution_count": null,
   "id": "d0d895ca",
   "metadata": {},
   "outputs": [],
   "source": [
    "# species_bounds = {\n",
    "#     # \"Aesculus indica\": (1500, 2800), 1000 - 2700\n",
    "#     # \"Buchanania lanzan\": (40, 700),   1000\n",
    "#     # \"Cedrus deodara\": (1000, 3000), 1200 - 3200\n",
    "#     \"Eucalyptus globulus\": (300, 1800), \n",
    "#     # \"Madhuca longifolia\": (0, 600), 1200\n",
    "#     # \"Mangifera sylvatica\": (300, 1200), 1500\n",
    "#     # \"Phyllanthus emblica\": (300, 1200), 1800\n",
    "#     # \"Pinus roxburghii\": (300, 2200), 4000\n",
    "#     \"Quercus leucotrichophora\": (900, 2600),\n",
    "#     # \"Rhododendron arboreum\": (1300, 3000), 1000 - 3800\n",
    "#     # \"Senegalia catechu\": (200, 1000), 2000\n",
    "#     # \"Shorea robusta\": (100, 1200),  1700\n",
    "#     \"Taxus baccata\": (1000, 3100),\n",
    "# }"
   ]
  },
  {
   "cell_type": "code",
   "execution_count": null,
   "id": "ae8c6716",
   "metadata": {},
   "outputs": [],
   "source": [
    "species_bounds = {\n",
    "    \"Aesculus indica\": (1000, 2700),\n",
    "    \"Buchanania lanzan\": (40, 1000),   \n",
    "    \"Cedrus deodara\": (1200, 3200),\n",
    "    \"Eucalyptus globulus\": (300, 1800), \n",
    "    \"Madhuca longifolia\": (0,  1200),\n",
    "    \"Mangifera sylvatica\": (300, 1500), \n",
    "    \"Phyllanthus emblica\": (300, 1800),\n",
    "    \"Pinus roxburghii\": (300, 4000), \n",
    "    \"Quercus leucotrichophora\": (900, 2600),\n",
    "    \"Rhododendron arboreum\": (1000, 3800),\n",
    "    \"Senegalia catechu\": (200, 2000),\n",
    "    \"Shorea robusta\": (100, 2000),\n",
    "    \"Taxus baccata\": (1000, 3100),\n",
    "}"
   ]
  },
  {
   "cell_type": "code",
   "execution_count": 14,
   "id": "2db0eb28",
   "metadata": {},
   "outputs": [],
   "source": [
    "def is_outlier(row):\n",
    "    min_elev, max_elev = species_bounds.get(row['species_na'], (None, None))\n",
    "    if min_elev is None or max_elev is None:\n",
    "        return True   \n",
    "    return not (min_elev <= row['Elevation_dem'] <= max_elev)\n"
   ]
  },
  {
   "cell_type": "code",
   "execution_count": 15,
   "id": "2d268260",
   "metadata": {},
   "outputs": [],
   "source": [
    "file['outlier'] = file.apply(is_outlier, axis=1)"
   ]
  },
  {
   "cell_type": "code",
   "execution_count": 16,
   "id": "5ecc1f45",
   "metadata": {},
   "outputs": [
    {
     "data": {
      "text/plain": [
       "species_na\n",
       "Pinus roxburghii            41163\n",
       "Shorea robusta              24970\n",
       "Senegalia catechu           23341\n",
       "Cedrus deodara              21201\n",
       "Eucalyptus globulus          8443\n",
       "Quercus leucotrichophora     6495\n",
       "Phyllanthus emblica          6453\n",
       "Madhuca longifolia           6084\n",
       "Mangifera sylvatica          4855\n",
       "Rhododendron arboreum        4738\n",
       "Aesculus indica              4285\n",
       "Buchanania lanzan            3363\n",
       "Taxus baccata                3195\n",
       "Name: count, dtype: int64"
      ]
     },
     "execution_count": 16,
     "metadata": {},
     "output_type": "execute_result"
    }
   ],
   "source": [
    "file['species_na'].value_counts()"
   ]
  },
  {
   "cell_type": "code",
   "execution_count": 17,
   "id": "83f56508",
   "metadata": {},
   "outputs": [],
   "source": [
    "def assign_elevation_levels(group):\n",
    "    non_outliers = group[~group['outlier']].copy()\n",
    "    \n",
    "    if len(non_outliers) < 5:\n",
    "        group['elevation_level'] = np.nan\n",
    "    else:\n",
    "        try: \n",
    "            elevation_levels = pd.qcut(\n",
    "                non_outliers['Elevation_dem'],\n",
    "                q=5,\n",
    "                labels=['level1', 'level2', 'level3', 'level4', 'level5']\n",
    "            ) \n",
    "            group['elevation_level'] = np.nan\n",
    "            group.loc[non_outliers.index, 'elevation_level'] = elevation_levels\n",
    "        except ValueError:\n",
    "            group['elevation_level'] = np.nan\n",
    "\n",
    "    return group\n"
   ]
  },
  {
   "cell_type": "code",
   "execution_count": 18,
   "id": "e90d7480",
   "metadata": {},
   "outputs": [
    {
     "name": "stderr",
     "output_type": "stream",
     "text": [
      "C:\\Users\\31733\\AppData\\Local\\Temp\\ipykernel_10736\\2317437317.py:14: FutureWarning: Setting an item of incompatible dtype is deprecated and will raise an error in a future version of pandas. Value '['level4', 'level1', 'level1', 'level1', 'level1', ..., 'level3', 'level3', 'level3', 'level3', 'level3']\n",
      "Length: 4234\n",
      "Categories (5, object): ['level1' < 'level2' < 'level3' < 'level4' < 'level5']' has dtype incompatible with float64, please explicitly cast to a compatible dtype first.\n",
      "  group.loc[non_outliers.index, 'elevation_level'] = elevation_levels\n",
      "C:\\Users\\31733\\AppData\\Local\\Temp\\ipykernel_10736\\2317437317.py:14: FutureWarning: Setting an item of incompatible dtype is deprecated and will raise an error in a future version of pandas. Value '['level2', 'level2', 'level1', 'level1', 'level1', ..., 'level4', 'level4', 'level4', 'level4', 'level4']\n",
      "Length: 3363\n",
      "Categories (5, object): ['level1' < 'level2' < 'level3' < 'level4' < 'level5']' has dtype incompatible with float64, please explicitly cast to a compatible dtype first.\n",
      "  group.loc[non_outliers.index, 'elevation_level'] = elevation_levels\n",
      "C:\\Users\\31733\\AppData\\Local\\Temp\\ipykernel_10736\\2317437317.py:14: FutureWarning: Setting an item of incompatible dtype is deprecated and will raise an error in a future version of pandas. Value '['level5', 'level5', 'level5', 'level5', 'level4', ..., 'level4', 'level4', 'level4', 'level4', 'level5']\n",
      "Length: 21037\n",
      "Categories (5, object): ['level1' < 'level2' < 'level3' < 'level4' < 'level5']' has dtype incompatible with float64, please explicitly cast to a compatible dtype first.\n",
      "  group.loc[non_outliers.index, 'elevation_level'] = elevation_levels\n",
      "C:\\Users\\31733\\AppData\\Local\\Temp\\ipykernel_10736\\2317437317.py:14: FutureWarning: Setting an item of incompatible dtype is deprecated and will raise an error in a future version of pandas. Value '['level3', 'level3', 'level3', 'level3', 'level3', ..., 'level4', 'level3', 'level3', 'level5', 'level5']\n",
      "Length: 8435\n",
      "Categories (5, object): ['level1' < 'level2' < 'level3' < 'level4' < 'level5']' has dtype incompatible with float64, please explicitly cast to a compatible dtype first.\n",
      "  group.loc[non_outliers.index, 'elevation_level'] = elevation_levels\n",
      "C:\\Users\\31733\\AppData\\Local\\Temp\\ipykernel_10736\\2317437317.py:14: FutureWarning: Setting an item of incompatible dtype is deprecated and will raise an error in a future version of pandas. Value '['level1', 'level1', 'level1', 'level1', 'level1', ..., 'level4', 'level4', 'level4', 'level4', 'level4']\n",
      "Length: 6084\n",
      "Categories (5, object): ['level1' < 'level2' < 'level3' < 'level4' < 'level5']' has dtype incompatible with float64, please explicitly cast to a compatible dtype first.\n",
      "  group.loc[non_outliers.index, 'elevation_level'] = elevation_levels\n",
      "C:\\Users\\31733\\AppData\\Local\\Temp\\ipykernel_10736\\2317437317.py:14: FutureWarning: Setting an item of incompatible dtype is deprecated and will raise an error in a future version of pandas. Value '['level5', 'level2', 'level4', 'level5', 'level4', ..., 'level5', 'level5', 'level5', 'level5', 'level5']\n",
      "Length: 4853\n",
      "Categories (5, object): ['level1' < 'level2' < 'level3' < 'level4' < 'level5']' has dtype incompatible with float64, please explicitly cast to a compatible dtype first.\n",
      "  group.loc[non_outliers.index, 'elevation_level'] = elevation_levels\n",
      "C:\\Users\\31733\\AppData\\Local\\Temp\\ipykernel_10736\\2317437317.py:14: FutureWarning: Setting an item of incompatible dtype is deprecated and will raise an error in a future version of pandas. Value '['level5', 'level4', 'level4', 'level4', 'level4', ..., 'level3', 'level3', 'level3', 'level3', 'level3']\n",
      "Length: 6453\n",
      "Categories (5, object): ['level1' < 'level2' < 'level3' < 'level4' < 'level5']' has dtype incompatible with float64, please explicitly cast to a compatible dtype first.\n",
      "  group.loc[non_outliers.index, 'elevation_level'] = elevation_levels\n",
      "C:\\Users\\31733\\AppData\\Local\\Temp\\ipykernel_10736\\2317437317.py:14: FutureWarning: Setting an item of incompatible dtype is deprecated and will raise an error in a future version of pandas. Value '['level2', 'level3', 'level2', 'level2', 'level2', ..., 'level4', 'level4', 'level4', 'level4', 'level3']\n",
      "Length: 41163\n",
      "Categories (5, object): ['level1' < 'level2' < 'level3' < 'level4' < 'level5']' has dtype incompatible with float64, please explicitly cast to a compatible dtype first.\n",
      "  group.loc[non_outliers.index, 'elevation_level'] = elevation_levels\n",
      "C:\\Users\\31733\\AppData\\Local\\Temp\\ipykernel_10736\\2317437317.py:14: FutureWarning: Setting an item of incompatible dtype is deprecated and will raise an error in a future version of pandas. Value '['level1', 'level1', 'level1', 'level1', 'level1', ..., 'level4', 'level4', 'level4', 'level4', 'level4']\n",
      "Length: 6488\n",
      "Categories (5, object): ['level1' < 'level2' < 'level3' < 'level4' < 'level5']' has dtype incompatible with float64, please explicitly cast to a compatible dtype first.\n",
      "  group.loc[non_outliers.index, 'elevation_level'] = elevation_levels\n",
      "C:\\Users\\31733\\AppData\\Local\\Temp\\ipykernel_10736\\2317437317.py:14: FutureWarning: Setting an item of incompatible dtype is deprecated and will raise an error in a future version of pandas. Value '['level5', 'level5', 'level5', 'level5', 'level5', ..., 'level4', 'level4', 'level4', 'level3', 'level4']\n",
      "Length: 4736\n",
      "Categories (5, object): ['level1' < 'level2' < 'level3' < 'level4' < 'level5']' has dtype incompatible with float64, please explicitly cast to a compatible dtype first.\n",
      "  group.loc[non_outliers.index, 'elevation_level'] = elevation_levels\n",
      "C:\\Users\\31733\\AppData\\Local\\Temp\\ipykernel_10736\\2317437317.py:14: FutureWarning: Setting an item of incompatible dtype is deprecated and will raise an error in a future version of pandas. Value '['level2', 'level2', 'level2', 'level2', 'level2', ..., 'level4', 'level4', 'level4', 'level4', 'level4']\n",
      "Length: 23332\n",
      "Categories (5, object): ['level1' < 'level2' < 'level3' < 'level4' < 'level5']' has dtype incompatible with float64, please explicitly cast to a compatible dtype first.\n",
      "  group.loc[non_outliers.index, 'elevation_level'] = elevation_levels\n",
      "C:\\Users\\31733\\AppData\\Local\\Temp\\ipykernel_10736\\2317437317.py:14: FutureWarning: Setting an item of incompatible dtype is deprecated and will raise an error in a future version of pandas. Value '['level2', 'level3', 'level3', 'level3', 'level3', ..., 'level1', 'level1', 'level1', 'level1', 'level1']\n",
      "Length: 20936\n",
      "Categories (5, object): ['level1' < 'level2' < 'level3' < 'level4' < 'level5']' has dtype incompatible with float64, please explicitly cast to a compatible dtype first.\n",
      "  group.loc[non_outliers.index, 'elevation_level'] = elevation_levels\n",
      "C:\\Users\\31733\\AppData\\Local\\Temp\\ipykernel_10736\\2317437317.py:14: FutureWarning: Setting an item of incompatible dtype is deprecated and will raise an error in a future version of pandas. Value '['level5', 'level4', 'level5', 'level5', 'level5', ..., 'level5', 'level5', 'level5', 'level4', 'level4']\n",
      "Length: 3147\n",
      "Categories (5, object): ['level1' < 'level2' < 'level3' < 'level4' < 'level5']' has dtype incompatible with float64, please explicitly cast to a compatible dtype first.\n",
      "  group.loc[non_outliers.index, 'elevation_level'] = elevation_levels\n",
      "C:\\Users\\31733\\AppData\\Local\\Temp\\ipykernel_10736\\649409128.py:1: DeprecationWarning: DataFrameGroupBy.apply operated on the grouping columns. This behavior is deprecated, and in a future version of pandas the grouping columns will be excluded from the operation. Either pass `include_groups=False` to exclude the groupings or explicitly select the grouping columns after groupby to silence this warning.\n",
      "  df = file.groupby('species_na', group_keys=False).apply(assign_elevation_levels)\n"
     ]
    }
   ],
   "source": [
    "df = file.groupby('species_na', group_keys=False).apply(assign_elevation_levels)"
   ]
  },
  {
   "cell_type": "code",
   "execution_count": 19,
   "id": "82661bd5",
   "metadata": {},
   "outputs": [
    {
     "data": {
      "text/plain": [
       "elevation_level\n",
       "level1    31091\n",
       "level3    30902\n",
       "level2    30812\n",
       "level5    30789\n",
       "level4    30667\n",
       "Name: count, dtype: int64"
      ]
     },
     "execution_count": 19,
     "metadata": {},
     "output_type": "execute_result"
    }
   ],
   "source": [
    "df['elevation_level'].value_counts()"
   ]
  },
  {
   "cell_type": "code",
   "execution_count": 20,
   "id": "a1f51b46",
   "metadata": {},
   "outputs": [
    {
     "data": {
      "text/plain": [
       "Index(['Elevation_dem', 'altitude', 'time_of_da', 'phone_came', 'latitude',\n",
       "       'rear_camer', 'species_na', 'accuracy', 'rear_main1', 'image_date',\n",
       "       'original_i', 'encoding_p', 'original_1', 'month', 'state_name',\n",
       "       'exif_byte_', 'phone_make', 'processed_', 'image_id', 'rear_main_',\n",
       "       'system:index', 'longitude', 'outlier', 'elevation_level'],\n",
       "      dtype='object')"
      ]
     },
     "execution_count": 20,
     "metadata": {},
     "output_type": "execute_result"
    }
   ],
   "source": [
    "df.columns"
   ]
  },
  {
   "cell_type": "code",
   "execution_count": 21,
   "id": "42c65c93",
   "metadata": {},
   "outputs": [
    {
     "data": {
      "text/plain": [
       "month\n",
       "July         67103\n",
       "May          30095\n",
       "June         26249\n",
       "August       19070\n",
       "April         6886\n",
       "October       3556\n",
       "September     2834\n",
       "November      2551\n",
       "December       242\n",
       "Name: count, dtype: int64"
      ]
     },
     "execution_count": 21,
     "metadata": {},
     "output_type": "execute_result"
    }
   ],
   "source": [
    "df['month'].value_counts()"
   ]
  },
  {
   "cell_type": "code",
   "execution_count": 22,
   "id": "8b86961e",
   "metadata": {},
   "outputs": [],
   "source": [
    "leaf_status_dict = {\n",
    "    'Aesculus indica': {\n",
    "        'leaf_on': [2, 3, 4, 5, 6, 7, 8, 9, 10],\n",
    "        'leaf_off': [11, 12, 1]\n",
    "    },\n",
    "    'Buchanania lanzan': {\n",
    "        'leaf_on': [2, 3, 4, 5, 6, 7, 8, 9, 10],\n",
    "        'leaf_off': [11, 12, 1]\n",
    "    },\n",
    "    'Cedrus deodara': 'evergreen',\n",
    "    'Eucalyptus globulus': 'evergreen',\n",
    "    'Madhuca longifolia': {\n",
    "        'leaf_on': [2, 3, 4, 5, 6, 7, 8, 9, 10, 11],\n",
    "        'leaf_off': [12, 1]\n",
    "    },\n",
    "    'Mangifera sylvatica': {\n",
    "        'leaf_on': [3, 4, 5, 6, 7, 8, 9, 10, 11],\n",
    "        'leaf_off': [12, 1, 2]\n",
    "    },\n",
    "    'Phyllanthus emblica': {\n",
    "        'leaf_on': [3, 4, 5, 6, 7, 8, 9, 10, 11, 12],\n",
    "        'leaf_off': [1, 2]\n",
    "    },\n",
    "    'Pinus roxburghii': 'evergreen',\n",
    "    'Quercus leucotrichophora': 'evergreen',\n",
    "    'Rhododendron arboreum': {\n",
    "        'leaf_on': [1,2,3,4,5,6, 7, 8, 9,12],\n",
    "        'leaf_off': [10, 11]\n",
    "    },\n",
    "    'Senegalia catechu': {\n",
    "        'leaf_on': [1,5,6, 7,8,9,10,11,12],\n",
    "        'leaf_off': [2, 3, 4]\n",
    "    },\n",
    "    'Shorea robusta': {\n",
    "        'leaf_on': [1,5,6, 7,8,9,10,11,12],\n",
    "        'leaf_off': [2, 3, 4]\n",
    "    },\n",
    "    'Taxus baccata': 'evergreen'\n",
    "}"
   ]
  },
  {
   "cell_type": "code",
   "execution_count": 23,
   "id": "4c7f3b45",
   "metadata": {},
   "outputs": [],
   "source": [
    "month_map = {\n",
    "    'January': 1, 'February': 2, 'March': 3, 'April': 4,\n",
    "    'May': 5, 'June': 6, 'July': 7, 'August': 8,\n",
    "    'September': 9, 'October': 10, 'November': 11, 'December': 12\n",
    "}\n"
   ]
  },
  {
   "cell_type": "code",
   "execution_count": 24,
   "id": "3aed9f92",
   "metadata": {},
   "outputs": [],
   "source": [
    "df['month_num'] = df['month'].map(month_map)"
   ]
  },
  {
   "cell_type": "code",
   "execution_count": 25,
   "id": "0e5f198a",
   "metadata": {},
   "outputs": [],
   "source": [
    "def get_leaf_status(row):\n",
    "    species = row['species_na']\n",
    "    month = row['month_num']\n",
    "    \n",
    "    info = leaf_status_dict.get(species)\n",
    "    \n",
    "    if info == 'evergreen':\n",
    "        return 'leaf_on'\n",
    "    elif info:\n",
    "        if month in info['leaf_on']:\n",
    "            return 'leaf_on'\n",
    "        elif month in info['leaf_off']:\n",
    "            return 'leaf_off'\n",
    "    return 'unknown'\n"
   ]
  },
  {
   "cell_type": "code",
   "execution_count": 26,
   "id": "4acc262d",
   "metadata": {},
   "outputs": [],
   "source": [
    "df['leaf_status'] = df.apply(get_leaf_status, axis=1)\n"
   ]
  },
  {
   "cell_type": "code",
   "execution_count": 27,
   "id": "f8c1ecff",
   "metadata": {},
   "outputs": [
    {
     "data": {
      "text/plain": [
       "leaf_status\n",
       "leaf_on     152278\n",
       "leaf_off      6308\n",
       "Name: count, dtype: int64"
      ]
     },
     "execution_count": 27,
     "metadata": {},
     "output_type": "execute_result"
    }
   ],
   "source": [
    "df['leaf_status'].value_counts()"
   ]
  },
  {
   "cell_type": "code",
   "execution_count": 28,
   "id": "533a4873",
   "metadata": {},
   "outputs": [
    {
     "data": {
      "text/plain": [
       "Index(['Elevation_dem', 'altitude', 'time_of_da', 'phone_came', 'latitude',\n",
       "       'rear_camer', 'species_na', 'accuracy', 'rear_main1', 'image_date',\n",
       "       'original_i', 'encoding_p', 'original_1', 'month', 'state_name',\n",
       "       'exif_byte_', 'phone_make', 'processed_', 'image_id', 'rear_main_',\n",
       "       'system:index', 'longitude', 'outlier', 'elevation_level', 'month_num',\n",
       "       'leaf_status'],\n",
       "      dtype='object')"
      ]
     },
     "execution_count": 28,
     "metadata": {},
     "output_type": "execute_result"
    }
   ],
   "source": [
    "df.columns"
   ]
  },
  {
   "cell_type": "code",
   "execution_count": 29,
   "id": "f3e26407",
   "metadata": {},
   "outputs": [],
   "source": [
    "desired_columns =[\n",
    "    'image_id','species_na','latitude','longitude','Elevation_dem','state_name','exif_byte_','phone_make',\n",
    "    'phone_came','encoding_p','rear_main_','rear_main1','rear_camer','original_i','original_1','image_date','outlier', 'elevation_level','leaf_status'\n",
    "]"
   ]
  },
  {
   "cell_type": "code",
   "execution_count": 30,
   "id": "68232b08",
   "metadata": {},
   "outputs": [],
   "source": [
    "df = df[desired_columns]"
   ]
  },
  {
   "cell_type": "code",
   "execution_count": 31,
   "id": "aff828bc",
   "metadata": {},
   "outputs": [],
   "source": [
    "df.rename(columns={'species_na':'species_name','Elevation_dem':'altitude','exif_byte_':'exif_byte_order',\n",
    "     'phone_came':'phone_camera_model','encoding_p':'encoding_process', 'rear_main_':'rear_main_camera_megapixels',\n",
    "       'rear_main1':'rear_main_camera_aperture_size','rear_camer':'rear_camera_flash_available',\n",
    "        'original_i':'original_image_size', 'original_1':'original_image_resolution',  'image_date':'image_date_time'                                            \n",
    "       }, inplace=True)"
   ]
  },
  {
   "cell_type": "code",
   "execution_count": 32,
   "id": "65094f8e",
   "metadata": {},
   "outputs": [
    {
     "name": "stderr",
     "output_type": "stream",
     "text": [
      "C:\\Users\\31733\\AppData\\Local\\Temp\\ipykernel_10736\\3054686369.py:1: FutureWarning: A value is trying to be set on a copy of a DataFrame or Series through chained assignment using an inplace method.\n",
      "The behavior will change in pandas 3.0. This inplace method will never work because the intermediate object on which we are setting values always behaves as a copy.\n",
      "\n",
      "For example, when doing 'df[col].method(value, inplace=True)', try using 'df.method({col: value}, inplace=True)' or df[col] = df[col].method(value) instead, to perform the operation inplace on the original object.\n",
      "\n",
      "\n",
      "  df['elevation_level'].fillna('level0',inplace=True)\n"
     ]
    }
   ],
   "source": [
    "df['elevation_level'].fillna('level0',inplace=True)"
   ]
  },
  {
   "cell_type": "code",
   "execution_count": 33,
   "id": "6a486b3e",
   "metadata": {},
   "outputs": [
    {
     "data": {
      "text/plain": [
       "Index(['image_id', 'species_name', 'latitude', 'longitude', 'altitude',\n",
       "       'state_name', 'exif_byte_order', 'phone_make', 'phone_camera_model',\n",
       "       'encoding_process', 'rear_main_camera_megapixels',\n",
       "       'rear_main_camera_aperture_size', 'rear_camera_flash_available',\n",
       "       'original_image_size', 'original_image_resolution', 'image_date_time',\n",
       "       'outlier', 'elevation_level', 'leaf_status'],\n",
       "      dtype='object')"
      ]
     },
     "execution_count": 33,
     "metadata": {},
     "output_type": "execute_result"
    }
   ],
   "source": [
    "df.columns"
   ]
  },
  {
   "cell_type": "code",
   "execution_count": 36,
   "id": "a5acaef2",
   "metadata": {},
   "outputs": [
    {
     "data": {
      "text/plain": [
       "outlier\n",
       "False    154261\n",
       "True       4325\n",
       "Name: count, dtype: int64"
      ]
     },
     "execution_count": 36,
     "metadata": {},
     "output_type": "execute_result"
    }
   ],
   "source": [
    "df['outlier'].value_counts()"
   ]
  },
  {
   "cell_type": "code",
   "execution_count": 35,
   "id": "3018068a",
   "metadata": {},
   "outputs": [],
   "source": [
    "df.to_csv('../csvs/Updated_Metadata.csv',index=False)"
   ]
  }
 ],
 "metadata": {
  "kernelspec": {
   "display_name": "myenv",
   "language": "python",
   "name": "python3"
  },
  "language_info": {
   "codemirror_mode": {
    "name": "ipython",
    "version": 3
   },
   "file_extension": ".py",
   "mimetype": "text/x-python",
   "name": "python",
   "nbconvert_exporter": "python",
   "pygments_lexer": "ipython3",
   "version": "3.12.10"
  }
 },
 "nbformat": 4,
 "nbformat_minor": 5
}
