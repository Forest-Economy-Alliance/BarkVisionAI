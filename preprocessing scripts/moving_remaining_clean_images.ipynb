{
 "cells": [
  {
   "cell_type": "code",
   "execution_count": 1,
   "metadata": {},
   "outputs": [],
   "source": [
    "import os\n",
    "import shutil\n",
    "import pandas as pd"
   ]
  },
  {
   "cell_type": "code",
   "execution_count": 20,
   "metadata": {},
   "outputs": [],
   "source": [
    "file = pd.read_csv(\"../Remaining Clean Data/metadata.csv\")\n",
    "file_outlier = pd.read_csv(\"../Remaining Clean Data/species_outlier_point.csv\")"
   ]
  },
  {
   "cell_type": "code",
   "execution_count": 21,
   "metadata": {},
   "outputs": [
    {
     "data": {
      "text/plain": [
       "species_name\n",
       "Pinus roxburghii            40451\n",
       "Shorea robusta              24968\n",
       "Senegalia catechu           23030\n",
       "Cedrus deodara              20633\n",
       "Eucalyptus globulus          8204\n",
       "Quercus leucotrichophora     6485\n",
       "Phyllanthus emblica          6262\n",
       "Madhuca longifolia           6084\n",
       "Rhododendron arboreum        4719\n",
       "Mangifera sylvatica          4714\n",
       "Aesculus indica              4233\n",
       "Buchanania lanzan            3363\n",
       "Taxus baccata                2855\n",
       "Name: count, dtype: int64"
      ]
     },
     "execution_count": 21,
     "metadata": {},
     "output_type": "execute_result"
    }
   ],
   "source": [
    "file[\"species_name\"].value_counts()"
   ]
  },
  {
   "cell_type": "code",
   "execution_count": null,
   "metadata": {},
   "outputs": [],
   "source": [
    "root_path = \"../raw_data/data/\"\n",
    "destination_path = \"../Remaining Clean Data/outlier_data\" "
   ]
  },
  {
   "cell_type": "code",
   "execution_count": null,
   "metadata": {},
   "outputs": [],
   "source": [
    "for _, row in file_outlier.iterrows():\n",
    "    image_id = row['image_id']\n",
    "    species = row['species_name']\n",
    "     \n",
    "    src = os.path.join(root_path, species, image_id)\n",
    "    dst_dir = os.path.join(destination_path, species)\n",
    "    dst = os.path.join(dst_dir, image_id)\n",
    "     \n",
    "    os.makedirs(dst_dir, exist_ok=True) \n",
    "    if os.path.exists(src):\n",
    "        shutil.copy(src, dst)\n",
    "    else:\n",
    "        print(f\"File not found: {src}\")"
   ]
  }
 ],
 "metadata": {
  "kernelspec": {
   "display_name": ".venv",
   "language": "python",
   "name": "python3"
  },
  "language_info": {
   "codemirror_mode": {
    "name": "ipython",
    "version": 3
   },
   "file_extension": ".py",
   "mimetype": "text/x-python",
   "name": "python",
   "nbconvert_exporter": "python",
   "pygments_lexer": "ipython3",
   "version": "3.12.3"
  }
 },
 "nbformat": 4,
 "nbformat_minor": 2
}
