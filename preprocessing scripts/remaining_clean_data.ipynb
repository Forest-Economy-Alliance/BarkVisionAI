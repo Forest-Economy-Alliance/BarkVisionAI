{
 "cells": [
  {
   "cell_type": "code",
   "execution_count": 9,
   "metadata": {},
   "outputs": [],
   "source": [
    "import pandas as pd"
   ]
  },
  {
   "cell_type": "code",
   "execution_count": 10,
   "metadata": {},
   "outputs": [],
   "source": [
    "main_file = pd.read_csv(\"./csvs/updated_metadata_file_with_location.csv\")\n",
    "file_with_no_location = pd.read_csv(\"./No-Location Data/metadata.csv\")\n",
    "file_with_no_date = pd.read_csv(\"./No-created-date/metadata.csv\")"
   ]
  },
  {
   "cell_type": "code",
   "execution_count": 11,
   "metadata": {},
   "outputs": [],
   "source": [
    "main_file[\"primary_key\"] = main_file[\"image_id\"].str.lower()+\"_\"+main_file[\"species_name\"].str.lower()\n",
    "file_with_no_location[\"primary_key\"] = file_with_no_location[\"image_id\"].str.lower()+\"_\"+file_with_no_location[\"species_name\"].str.lower()\n",
    "file_with_no_date[\"primary_key\"] = file_with_no_date[\"image_id\"].str.lower()+\"_\"+file_with_no_date[\"species_name\"].str.lower()"
   ]
  },
  {
   "cell_type": "code",
   "execution_count": null,
   "metadata": {},
   "outputs": [],
   "source": [
    "excluded_keys = pd.concat([\n",
    "    file_with_no_date[\"primary_key\"],\n",
    "    file_with_no_location[\"primary_key\"]\n",
    "])\n",
    " \n",
    "main_file = main_file[~main_file[\"primary_key\"].isin(excluded_keys)]"
   ]
  },
  {
   "cell_type": "code",
   "execution_count": 16,
   "metadata": {},
   "outputs": [],
   "source": [
    "metadata_v3 = pd.read_csv(\"./csvs/metadata_v3.csv\")"
   ]
  },
  {
   "cell_type": "code",
   "execution_count": 17,
   "metadata": {},
   "outputs": [],
   "source": [
    "metadata_v3[\"primary_key\"] = metadata_v3[\"image_id\"].str.lower()+\"_\"+metadata_v3[\"species_name\"].str.lower()"
   ]
  },
  {
   "cell_type": "code",
   "execution_count": 18,
   "metadata": {},
   "outputs": [],
   "source": [
    "merge =pd.merge(main_file,metadata_v3,on=\"primary_key\",how=\"outer\",indicator=True,suffixes=[\"_left\",\"right\"],validate=\"1:1\")"
   ]
  },
  {
   "cell_type": "code",
   "execution_count": 19,
   "metadata": {},
   "outputs": [
    {
     "data": {
      "text/plain": [
       "_merge\n",
       "both          156001\n",
       "left_only          0\n",
       "right_only         0\n",
       "Name: count, dtype: int64"
      ]
     },
     "execution_count": 19,
     "metadata": {},
     "output_type": "execute_result"
    }
   ],
   "source": [
    "merge[\"_merge\"].value_counts()"
   ]
  },
  {
   "cell_type": "code",
   "execution_count": null,
   "metadata": {},
   "outputs": [],
   "source": []
  }
 ],
 "metadata": {
  "kernelspec": {
   "display_name": ".venv",
   "language": "python",
   "name": "python3"
  },
  "language_info": {
   "codemirror_mode": {
    "name": "ipython",
    "version": 3
   },
   "file_extension": ".py",
   "mimetype": "text/x-python",
   "name": "python",
   "nbconvert_exporter": "python",
   "pygments_lexer": "ipython3",
   "version": "3.12.3"
  }
 },
 "nbformat": 4,
 "nbformat_minor": 2
}
