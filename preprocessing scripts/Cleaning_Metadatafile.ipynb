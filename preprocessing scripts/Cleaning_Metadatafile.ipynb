{
 "cells": [
  {
   "cell_type": "code",
   "execution_count": 1,
   "metadata": {},
   "outputs": [],
   "source": [
    "import pandas as pd"
   ]
  },
  {
   "cell_type": "code",
   "execution_count": 5,
   "metadata": {},
   "outputs": [],
   "source": [
    "metadata_file = pd.read_csv('../csvs/updated_metadata_file_with_location.csv')"
   ]
  },
  {
   "cell_type": "code",
   "execution_count": 10,
   "metadata": {},
   "outputs": [],
   "source": [
    "metadata_file = metadata_file.dropna()"
   ]
  },
  {
   "cell_type": "code",
   "execution_count": 19,
   "metadata": {},
   "outputs": [
    {
     "data": {
      "text/plain": [
       "species_name\n",
       "Pinus roxburghii            41163\n",
       "Shorea robusta              24970\n",
       "Senegalia catechu           23341\n",
       "Cedrus deodara              21201\n",
       "Eucalyptus globulus          8443\n",
       "Quercus leucotrichophora     6495\n",
       "Phyllanthus emblica          6453\n",
       "Madhuca longifolia           6084\n",
       "Mangifera sylvatica          4855\n",
       "Rhododendron arboreum        4738\n",
       "Aesculus indica              4285\n",
       "Buchanania lanzan            3363\n",
       "Taxus baccata                3195\n",
       "Name: count, dtype: int64"
      ]
     },
     "execution_count": 19,
     "metadata": {},
     "output_type": "execute_result"
    }
   ],
   "source": [
    "metadata_file['species_name'].value_counts()"
   ]
  },
  {
   "cell_type": "code",
   "execution_count": null,
   "metadata": {},
   "outputs": [],
   "source": []
  }
 ],
 "metadata": {
  "kernelspec": {
   "display_name": ".venv",
   "language": "python",
   "name": "python3"
  },
  "language_info": {
   "codemirror_mode": {
    "name": "ipython",
    "version": 3
   },
   "file_extension": ".py",
   "mimetype": "text/x-python",
   "name": "python",
   "nbconvert_exporter": "python",
   "pygments_lexer": "ipython3",
   "version": "3.12.3"
  }
 },
 "nbformat": 4,
 "nbformat_minor": 2
}
