{
 "cells": [
  {
   "cell_type": "code",
   "execution_count": 85,
   "metadata": {},
   "outputs": [],
   "source": [
    "import pandas as pd\n",
    "import os"
   ]
  },
  {
   "cell_type": "code",
   "execution_count": 86,
   "metadata": {},
   "outputs": [],
   "source": [
    "metadata_file = pd.read_csv('../../BarkVisionAI_metadata.csv')\n",
    "raw_data_metadata_file = pd.read_csv('../../raw_data_metadata.csv')"
   ]
  },
  {
   "cell_type": "code",
   "execution_count": 87,
   "metadata": {},
   "outputs": [],
   "source": [
    "raw_data_metadata_file.rename(columns={'bark image':'image_id'},inplace=True)\n",
    "raw_data_metadata_file.rename(columns={'State Name':'state_name'},inplace=True)"
   ]
  },
  {
   "cell_type": "code",
   "execution_count": 88,
   "metadata": {},
   "outputs": [],
   "source": [
    "merge_metadatafile = pd.merge(\n",
    "    metadata_file, \n",
    "    raw_data_metadata_file, \n",
    "    on='image_id', \n",
    "    indicator=True, \n",
    "    suffixes=['_current', '_raw'], \n",
    "    how='outer', \n",
    ")"
   ]
  },
  {
   "cell_type": "code",
   "execution_count": 89,
   "metadata": {},
   "outputs": [],
   "source": [
    "merge_metadatafile = merge_metadatafile[merge_metadatafile['_merge']=='both']"
   ]
  },
  {
   "cell_type": "code",
   "execution_count": 91,
   "metadata": {},
   "outputs": [],
   "source": [
    "metadata_file_required_columns = ['image_id', 'species_name','latitude',\n",
    "       'longitude', 'altitude', 'accuracy','state_name', 'exif_byte_order', 'phone_make',\n",
    "       'phone_camera_model', 'encoding_process', 'rear_main_camera_megapixels',\n",
    "       'rear_main_camera_aperture_size', 'rear_camera_flash_available',\n",
    "       'original_image_size', 'original_image_resolution',\n",
    "       'processed_image_size', 'image_date_time']"
   ]
  },
  {
   "cell_type": "code",
   "execution_count": 92,
   "metadata": {},
   "outputs": [],
   "source": [
    "updated_metadata_file = merge_metadatafile[metadata_file_required_columns]"
   ]
  },
  {
   "cell_type": "code",
   "execution_count": null,
   "metadata": {},
   "outputs": [],
   "source": [
    "updated_metadata_file['primary_key'] = updated_metadata_file['species_name'].astype(str).str.lower() +\"_\"+ updated_metadata_file['image_id'].astype(str).str.lower()"
   ]
  },
  {
   "cell_type": "code",
   "execution_count": null,
   "metadata": {},
   "outputs": [],
   "source": [
    "updated_metadata_file.drop_duplicates(subset=['primary_key'],keep='last',inplace=True)\n",
    "updated_metadata_file.drop(columns=['primary_key'],inplace=True)"
   ]
  },
  {
   "cell_type": "code",
   "execution_count": 95,
   "metadata": {},
   "outputs": [],
   "source": [
    "all_pinus_images = os.listdir('../data/Pinus roxburghii')\n",
    "all_pinus_images_csv = updated_metadata_file[updated_metadata_file['species_name']=='Pinus roxburghii']['image_id'].unique()"
   ]
  },
  {
   "cell_type": "code",
   "execution_count": 97,
   "metadata": {},
   "outputs": [],
   "source": [
    "updated_metadata_file.to_csv('../csvs/updated_metadata_file_with_location.csv',index=False)"
   ]
  }
 ],
 "metadata": {
  "kernelspec": {
   "display_name": ".venv",
   "language": "python",
   "name": "python3"
  },
  "language_info": {
   "codemirror_mode": {
    "name": "ipython",
    "version": 3
   },
   "file_extension": ".py",
   "mimetype": "text/x-python",
   "name": "python",
   "nbconvert_exporter": "python",
   "pygments_lexer": "ipython3",
   "version": "3.12.3"
  }
 },
 "nbformat": 4,
 "nbformat_minor": 2
}
